{
 "cells": [
  {
   "cell_type": "code",
   "execution_count": 3,
   "id": "19d8e384",
   "metadata": {},
   "outputs": [],
   "source": [
    "# Import the random module.\n",
    "import random"
   ]
  },
  {
   "cell_type": "code",
   "execution_count": 5,
   "id": "07d0f138",
   "metadata": {},
   "outputs": [
    {
     "data": {
      "text/plain": [
       "-55"
      ]
     },
     "execution_count": 5,
     "metadata": {},
     "output_type": "execute_result"
    }
   ],
   "source": [
    "random.randint(-90, 90)\n"
   ]
  },
  {
   "cell_type": "code",
   "execution_count": 6,
   "id": "5ebfa8fd",
   "metadata": {},
   "outputs": [
    {
     "data": {
      "text/plain": [
       "0.778710772503965"
      ]
     },
     "execution_count": 6,
     "metadata": {},
     "output_type": "execute_result"
    }
   ],
   "source": [
    "random.random()"
   ]
  },
  {
   "cell_type": "code",
   "execution_count": 7,
   "id": "7207256c",
   "metadata": {},
   "outputs": [
    {
     "data": {
      "text/plain": [
       "-76.7832389194004"
      ]
     },
     "execution_count": 7,
     "metadata": {},
     "output_type": "execute_result"
    }
   ],
   "source": [
    "random_number = random.randint(-90, 89) + random.random()\n",
    "random_number"
   ]
  },
  {
   "cell_type": "code",
   "execution_count": 8,
   "id": "768c188e",
   "metadata": {},
   "outputs": [],
   "source": [
    "x = 1\n",
    "latitudes = []\n",
    "while x < 11:\n",
    "    random_lat = random.randint(-90, 89) + random.random()\n",
    "    latitudes.append(random_lat)\n",
    "    x += 1"
   ]
  },
  {
   "cell_type": "code",
   "execution_count": 9,
   "id": "4e4e2dfc",
   "metadata": {},
   "outputs": [
    {
     "data": {
      "text/plain": [
       "[77.55385703119359,\n",
       " 3.111960833334802,\n",
       " 50.36449595716225,\n",
       " 22.80031800127,\n",
       " -34.90397012947249,\n",
       " -27.03938622765687,\n",
       " -44.482879629310744,\n",
       " 1.8668704692671987,\n",
       " 30.9231095734011,\n",
       " 42.55274554799296]"
      ]
     },
     "execution_count": 9,
     "metadata": {},
     "output_type": "execute_result"
    }
   ],
   "source": [
    "latitudes"
   ]
  },
  {
   "cell_type": "code",
   "execution_count": 10,
   "id": "fcb7230a",
   "metadata": {},
   "outputs": [
    {
     "data": {
      "text/plain": [
       "42"
      ]
     },
     "execution_count": 10,
     "metadata": {},
     "output_type": "execute_result"
    }
   ],
   "source": [
    "random.randrange(-90, 90, step=1)"
   ]
  },
  {
   "cell_type": "code",
   "execution_count": 11,
   "id": "96c28eac",
   "metadata": {},
   "outputs": [
    {
     "data": {
      "text/plain": [
       "-75"
      ]
     },
     "execution_count": 11,
     "metadata": {},
     "output_type": "execute_result"
    }
   ],
   "source": [
    "random.randrange(-90, 90, step=3)"
   ]
  },
  {
   "cell_type": "code",
   "execution_count": 12,
   "id": "f627b241",
   "metadata": {},
   "outputs": [
    {
     "data": {
      "text/plain": [
       "87.65353336496136"
      ]
     },
     "execution_count": 12,
     "metadata": {},
     "output_type": "execute_result"
    }
   ],
   "source": [
    "random.uniform(-90, 90)"
   ]
  },
  {
   "cell_type": "code",
   "execution_count": 13,
   "id": "33eed5d7",
   "metadata": {},
   "outputs": [],
   "source": [
    "# import the numpy module\n",
    "import numpy as np"
   ]
  },
  {
   "cell_type": "code",
   "execution_count": 15,
   "id": "e70ae3a3",
   "metadata": {},
   "outputs": [
    {
     "data": {
      "text/plain": [
       "array([-89.03366815,  13.76824303,  81.97594722,  32.3427052 ,\n",
       "       -39.61347442, -48.1798656 ,  51.66546938, -18.60932137,\n",
       "        89.34678664, -23.03913453,  49.92628011,  42.74267072,\n",
       "        52.18601272, -28.79576523,  55.00859088,  -6.01402192,\n",
       "       -53.85459641, -58.07399904, -20.06988743,  60.80732226,\n",
       "       -52.23369702,  84.02937864,   9.46087967, -78.4001473 ,\n",
       "        27.9601512 ,  80.61589976,  -8.32844298, -17.54601822,\n",
       "       -37.57604869,  22.73104403,  63.98659823, -12.87326821,\n",
       "       -51.17830492, -38.79367512, -37.11179313, -82.70755524,\n",
       "       -59.07938117,  -7.94507235,  85.57101313,  69.1020396 ,\n",
       "        81.53968073,  24.88694906, -88.26439719, -53.26847102,\n",
       "        20.60652301,  21.22039947, -52.3895823 ,  45.59266901,\n",
       "        12.3311321 , -84.86562171])"
      ]
     },
     "execution_count": 15,
     "metadata": {},
     "output_type": "execute_result"
    }
   ],
   "source": [
    "np.random.uniform(-90.000, 90.000, size=50)"
   ]
  },
  {
   "cell_type": "code",
   "execution_count": 16,
   "id": "bd9aee08",
   "metadata": {},
   "outputs": [],
   "source": [
    "# import timeit module \n",
    "import timeit "
   ]
  },
  {
   "cell_type": "code",
   "execution_count": 17,
   "id": "833e3e4a",
   "metadata": {},
   "outputs": [
    {
     "name": "stdout",
     "output_type": "stream",
     "text": [
      "13.4 µs ± 503 ns per loop (mean ± std. dev. of 7 runs, 100000 loops each)\n"
     ]
    }
   ],
   "source": [
    "%timeit np.random.uniform(-90.000, 90.000, size=1500)"
   ]
  },
  {
   "cell_type": "code",
   "execution_count": 18,
   "id": "b02fec5f",
   "metadata": {},
   "outputs": [
    {
     "name": "stdout",
     "output_type": "stream",
     "text": [
      "1.96 ms ± 25.2 µs per loop (mean ± std. dev. of 7 runs, 100 loops each)\n"
     ]
    }
   ],
   "source": [
    "def latitudes(size):\n",
    "    latitudes = []\n",
    "    x = 0\n",
    "    while x < (size):\n",
    "        random_lat = random.randint(-90, 90) + random.random()\n",
    "        latitudes.append(random_lat)\n",
    "        x += 1\n",
    "    return latitudes\n",
    "# Call the function with 1500.\n",
    "%timeit latitudes(1500)"
   ]
  },
  {
   "cell_type": "code",
   "execution_count": null,
   "id": "6004b113",
   "metadata": {},
   "outputs": [],
   "source": []
  }
 ],
 "metadata": {
  "kernelspec": {
   "display_name": "PythonData",
   "language": "python",
   "name": "pythondata"
  },
  "language_info": {
   "codemirror_mode": {
    "name": "ipython",
    "version": 3
   },
   "file_extension": ".py",
   "mimetype": "text/x-python",
   "name": "python",
   "nbconvert_exporter": "python",
   "pygments_lexer": "ipython3",
   "version": "3.7.10"
  }
 },
 "nbformat": 4,
 "nbformat_minor": 5
}
